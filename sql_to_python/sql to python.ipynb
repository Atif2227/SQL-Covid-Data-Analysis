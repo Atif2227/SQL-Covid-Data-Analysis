{
 "cells": [
  {
   "cell_type": "markdown",
   "id": "b7b3c5f3",
   "metadata": {},
   "source": [
    "# Get data from MySQL to Python"
   ]
  },
  {
   "cell_type": "code",
   "execution_count": 1,
   "id": "7fde18c9",
   "metadata": {},
   "outputs": [],
   "source": [
    "import pandas as pd\n",
    "#import seaborn as sns\n",
    "#import plotly.express as px\n",
    "import numpy as np\n",
    "#import plotly.graph_objects as go\n",
    "#import math\n",
    "import pymysql\n",
    "#pd.set_option('display.max_column', None)\n",
    "import warnings\n",
    "warnings.filterwarnings('ignore')"
   ]
  },
  {
   "cell_type": "code",
   "execution_count": 2,
   "id": "2c180b9a",
   "metadata": {},
   "outputs": [
    {
     "name": "stdout",
     "output_type": "stream",
     "text": [
      "Defaulting to user installation because normal site-packages is not writeable\n",
      "Requirement already satisfied: pymysql in c:\\users\\atifn\\appdata\\roaming\\python\\python39\\site-packages (1.0.2)\n"
     ]
    }
   ],
   "source": [
    "!pip install pymysql"
   ]
  },
  {
   "cell_type": "code",
   "execution_count": 3,
   "id": "3b53ad99",
   "metadata": {},
   "outputs": [],
   "source": [
    "dbcon = pymysql.connect(host=\"localhost\",user= \"root\",password= \"55w00dland55\",database= \"sales\")"
   ]
  },
  {
   "cell_type": "code",
   "execution_count": 4,
   "id": "72bb1304",
   "metadata": {},
   "outputs": [
    {
     "data": {
      "text/plain": [
       "<pymysql.connections.Connection at 0x1be5df17280>"
      ]
     },
     "execution_count": 4,
     "metadata": {},
     "output_type": "execute_result"
    }
   ],
   "source": [
    "dbcon"
   ]
  },
  {
   "cell_type": "code",
   "execution_count": 5,
   "id": "3fe0ca96",
   "metadata": {},
   "outputs": [
    {
     "data": {
      "text/html": [
       "<div>\n",
       "<style scoped>\n",
       "    .dataframe tbody tr th:only-of-type {\n",
       "        vertical-align: middle;\n",
       "    }\n",
       "\n",
       "    .dataframe tbody tr th {\n",
       "        vertical-align: top;\n",
       "    }\n",
       "\n",
       "    .dataframe thead th {\n",
       "        text-align: right;\n",
       "    }\n",
       "</style>\n",
       "<table border=\"1\" class=\"dataframe\">\n",
       "  <thead>\n",
       "    <tr style=\"text-align: right;\">\n",
       "      <th></th>\n",
       "      <th>product_code</th>\n",
       "      <th>customer_code</th>\n",
       "      <th>market_code</th>\n",
       "      <th>order_date</th>\n",
       "      <th>sales_qty</th>\n",
       "      <th>sales_amount</th>\n",
       "      <th>currency</th>\n",
       "    </tr>\n",
       "  </thead>\n",
       "  <tbody>\n",
       "    <tr>\n",
       "      <th>0</th>\n",
       "      <td>Prod001</td>\n",
       "      <td>Cus001</td>\n",
       "      <td>Mark001</td>\n",
       "      <td>2017-10-10</td>\n",
       "      <td>100</td>\n",
       "      <td>41241.0</td>\n",
       "      <td>INR</td>\n",
       "    </tr>\n",
       "    <tr>\n",
       "      <th>1</th>\n",
       "      <td>Prod001</td>\n",
       "      <td>Cus002</td>\n",
       "      <td>Mark002</td>\n",
       "      <td>2018-05-08</td>\n",
       "      <td>3</td>\n",
       "      <td>-1.0</td>\n",
       "      <td>INR</td>\n",
       "    </tr>\n",
       "    <tr>\n",
       "      <th>2</th>\n",
       "      <td>Prod002</td>\n",
       "      <td>Cus003</td>\n",
       "      <td>Mark003</td>\n",
       "      <td>2018-04-06</td>\n",
       "      <td>1</td>\n",
       "      <td>875.0</td>\n",
       "      <td>INR</td>\n",
       "    </tr>\n",
       "    <tr>\n",
       "      <th>3</th>\n",
       "      <td>Prod002</td>\n",
       "      <td>Cus003</td>\n",
       "      <td>Mark003</td>\n",
       "      <td>2018-04-11</td>\n",
       "      <td>1</td>\n",
       "      <td>583.0</td>\n",
       "      <td>INR</td>\n",
       "    </tr>\n",
       "    <tr>\n",
       "      <th>4</th>\n",
       "      <td>Prod002</td>\n",
       "      <td>Cus004</td>\n",
       "      <td>Mark003</td>\n",
       "      <td>2018-06-18</td>\n",
       "      <td>6</td>\n",
       "      <td>7176.0</td>\n",
       "      <td>INR</td>\n",
       "    </tr>\n",
       "    <tr>\n",
       "      <th>...</th>\n",
       "      <td>...</td>\n",
       "      <td>...</td>\n",
       "      <td>...</td>\n",
       "      <td>...</td>\n",
       "      <td>...</td>\n",
       "      <td>...</td>\n",
       "      <td>...</td>\n",
       "    </tr>\n",
       "    <tr>\n",
       "      <th>150278</th>\n",
       "      <td>Prod339</td>\n",
       "      <td>Cus005</td>\n",
       "      <td>Mark004</td>\n",
       "      <td>2019-04-18</td>\n",
       "      <td>1</td>\n",
       "      <td>394.0</td>\n",
       "      <td>INR\\r</td>\n",
       "    </tr>\n",
       "    <tr>\n",
       "      <th>150279</th>\n",
       "      <td>Prod339</td>\n",
       "      <td>Cus020</td>\n",
       "      <td>Mark004</td>\n",
       "      <td>2019-04-23</td>\n",
       "      <td>1</td>\n",
       "      <td>667.0</td>\n",
       "      <td>INR\\r</td>\n",
       "    </tr>\n",
       "    <tr>\n",
       "      <th>150280</th>\n",
       "      <td>Prod339</td>\n",
       "      <td>Cus007</td>\n",
       "      <td>Mark004</td>\n",
       "      <td>2019-04-23</td>\n",
       "      <td>1</td>\n",
       "      <td>625.0</td>\n",
       "      <td>INR\\r</td>\n",
       "    </tr>\n",
       "    <tr>\n",
       "      <th>150281</th>\n",
       "      <td>Prod339</td>\n",
       "      <td>Cus006</td>\n",
       "      <td>Mark004</td>\n",
       "      <td>2019-04-24</td>\n",
       "      <td>7</td>\n",
       "      <td>8625.0</td>\n",
       "      <td>INR\\r</td>\n",
       "    </tr>\n",
       "    <tr>\n",
       "      <th>150282</th>\n",
       "      <td>Prod339</td>\n",
       "      <td>Cus032</td>\n",
       "      <td>Mark009</td>\n",
       "      <td>2019-04-24</td>\n",
       "      <td>3</td>\n",
       "      <td>3792.0</td>\n",
       "      <td>INR\\r</td>\n",
       "    </tr>\n",
       "  </tbody>\n",
       "</table>\n",
       "<p>150283 rows × 7 columns</p>\n",
       "</div>"
      ],
      "text/plain": [
       "       product_code customer_code market_code  order_date  sales_qty  \\\n",
       "0           Prod001        Cus001     Mark001  2017-10-10        100   \n",
       "1           Prod001        Cus002     Mark002  2018-05-08          3   \n",
       "2           Prod002        Cus003     Mark003  2018-04-06          1   \n",
       "3           Prod002        Cus003     Mark003  2018-04-11          1   \n",
       "4           Prod002        Cus004     Mark003  2018-06-18          6   \n",
       "...             ...           ...         ...         ...        ...   \n",
       "150278      Prod339        Cus005     Mark004  2019-04-18          1   \n",
       "150279      Prod339        Cus020     Mark004  2019-04-23          1   \n",
       "150280      Prod339        Cus007     Mark004  2019-04-23          1   \n",
       "150281      Prod339        Cus006     Mark004  2019-04-24          7   \n",
       "150282      Prod339        Cus032     Mark009  2019-04-24          3   \n",
       "\n",
       "        sales_amount currency  \n",
       "0            41241.0      INR  \n",
       "1               -1.0      INR  \n",
       "2              875.0      INR  \n",
       "3              583.0      INR  \n",
       "4             7176.0      INR  \n",
       "...              ...      ...  \n",
       "150278         394.0    INR\\r  \n",
       "150279         667.0    INR\\r  \n",
       "150280         625.0    INR\\r  \n",
       "150281        8625.0    INR\\r  \n",
       "150282        3792.0    INR\\r  \n",
       "\n",
       "[150283 rows x 7 columns]"
      ]
     },
     "execution_count": 5,
     "metadata": {},
     "output_type": "execute_result"
    }
   ],
   "source": [
    "df = pd.read_sql_query(\"\"\"select * from transactions \"\"\", dbcon, parse_dates= True)\n",
    "df"
   ]
  }
 ],
 "metadata": {
  "kernelspec": {
   "display_name": "Python 3 (ipykernel)",
   "language": "python",
   "name": "python3"
  },
  "language_info": {
   "codemirror_mode": {
    "name": "ipython",
    "version": 3
   },
   "file_extension": ".py",
   "mimetype": "text/x-python",
   "name": "python",
   "nbconvert_exporter": "python",
   "pygments_lexer": "ipython3",
   "version": "3.9.12"
  }
 },
 "nbformat": 4,
 "nbformat_minor": 5
}
